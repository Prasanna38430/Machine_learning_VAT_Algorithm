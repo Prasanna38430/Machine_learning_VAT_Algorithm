{
 "cells": [
  {
   "cell_type": "markdown",
   "metadata": {},
   "source": [
    "# **Visual Assessment of Tendency (VAT) - Introduction**\n",
    "\n",
    "The **VAT algorithm** helps us **see** how many groups (clusters) exist in a dataset before applying clustering methods like K-Means.\n",
    "\n",
    "\n",
    "\n",
    "### How It Works\n",
    "1. **Measure Similarity**  \n",
    "   - VAT calculates how similar or different each data point is from the others.  \n",
    "   - This is done using distances (e.g., Euclidean distance).  \n",
    "\n",
    "2. **Reorder the Data**  \n",
    "   - VAT rearranges the data to place similar points closer together.  \n",
    "   - This makes it easier to spot groups in the data.  \n",
    "\n",
    "3. **Create a Visual Map**  \n",
    "   - VAT makes an image (heatmap) of the reordered data.  \n",
    "   - Dark blocks in the image show clusters (groups of similar points).  \n",
    "\n",
    "### How to Read the VAT Image\n",
    "- **Dark squares along the diagonal** → Show clusters (groups).  \n",
    "- **Bright lines between squares** → Show gaps between clusters.  \n",
    "- **More dark squares** → More clusters in the data.  \n",
    "\n",
    "### Why Use VAT?\n",
    "- **Easy to understand** – It gives a clear picture of data structure.  \n",
    "- **No need to set cluster numbers** – Helps decide how many groups exist.  \n",
    "- **Works for any type of data** – Can be used for numbers and categories.  \n",
    "\n",
    "VAT is useful when you don’t know how many clusters are in the data.\n"
   ]
  },
  {
   "cell_type": "code",
   "execution_count": 1,
   "metadata": {},
   "outputs": [],
   "source": [
    "import numpy as np\n",
    "import pandas as pd\n",
    "import matplotlib.pyplot as plt\n",
    "from scipy.spatial.distance import pdist, squareform\n",
    "from scipy.sparse.csgraph import shortest_path\n",
    "from sklearn.preprocessing import StandardScaler, OneHotEncoder\n",
    "from sklearn.impute import SimpleImputer\n",
    "from sklearn.neighbors import NearestNeighbors\n",
    "from sklearn.decomposition import PCA\n",
    "from sklearn.datasets import make_circles, load_iris\n",
    "from matplotlib.colors import LinearSegmentedColormap\n",
    "import warnings\n",
    "\n",
    "class VAT:\n",
    "    \n",
    "    def __init__(self, normalize=True, colormap='gray_r', n_samples_max=5000):\n",
    "        self.normalize = normalize\n",
    "        self.n_samples_max = n_samples_max\n",
    "        self.cmap = plt.cm.gray_r if colormap == 'gray_r' else LinearSegmentedColormap.from_list('vat_cmap', ['black', 'white'], N=256)\n",
    "\n",
    "    def fit(self, data):\n",
    "        if isinstance(data, pd.DataFrame):\n",
    "            data = self.preprocess_data(data)   \n",
    "        if len(data) > self.n_samples_max:\n",
    "            data = data[np.random.choice(len(data), self.n_samples_max, replace=False)] \n",
    "        self.original_data = data.copy()    \n",
    "        if data.shape[1] > 2 and self.is_nonlinear(data):\n",
    "            self.R_ = self.geodesic_distance(data)\n",
    "        else:\n",
    "            self.R_ = squareform(pdist(data, 'euclidean'))   \n",
    "        if self.normalize:\n",
    "            self.R_ = (self.R_ - self.R_.min()) / (self.R_.max() - self.R_.min()) \n",
    "        \n",
    "        self.order_ = self.vat_ordering(self.R_)\n",
    "        self.R_ordered_ = self.R_[np.ix_(self.order_, self.order_)]\n",
    "        return self"
   ]
  }
 ],
 "metadata": {
  "kernelspec": {
   "display_name": "Python 3",
   "language": "python",
   "name": "python3"
  },
  "language_info": {
   "codemirror_mode": {
    "name": "ipython",
    "version": 3
   },
   "file_extension": ".py",
   "mimetype": "text/x-python",
   "name": "python",
   "nbconvert_exporter": "python",
   "pygments_lexer": "ipython3",
   "version": "3.13.0"
  }
 },
 "nbformat": 4,
 "nbformat_minor": 2
}
